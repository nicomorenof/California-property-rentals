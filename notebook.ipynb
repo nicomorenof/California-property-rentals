{
 "cells": [
  {
   "cell_type": "markdown",
   "id": "strange-bobby",
   "metadata": {
    "id": "bA5ajAmk7XH6"
   },
   "source": [
    "#  Case Study\n",
    "\n",
    "### Project Brief\n",
    "\n",
    "A housing rental company has hired you for a new project. They are interested in developing an application to help people estimate the money they could earn renting out their living space.\n",
    "\n",
    "The company has provided you with a dataset that includes details about each property rented, as well as the price charged per night. They want to avoid estimating prices that are more than 25 dollars off of the actual price, as this may discourage people.\n",
    "\n",
      "\n",
   ]
  },
  {
   "cell_type": "code",
   "execution_count": 1,
   "id": "valued-laptop",
   "metadata": {
    "scrolled": true
   },
   "outputs": [],
   "source": [
    "# Use this cell to begin, and add as many cells as you need to complete your analysis!\n"
   ]
  },
  {
   "cell_type": "markdown",
   "id": "4f8bfbfb-ab21-4dd9-83bb-3563c3ce8791",
   "metadata": {
    "jp-MarkdownHeadingCollapsed": true,
    "tags": []
   },
   "source": [
    "# Importing libraries"
   ]
  },
  {
   "cell_type": "code",
   "execution_count": 2,
   "id": "16feb48a-5c27-41f3-b036-9aecbad62b7a",
   "metadata": {},
   "outputs": [],
   "source": [
    "import pandas as pd\n",
    "import numpy as np\n",
    "import matplotlib.pyplot as plt\n",
    "import seaborn as sns\n",
    "from sklearn.model_selection import train_test_split\n",
    "from sklearn.model_selection import GridSearchCV\n",
    "from sklearn.linear_model import Ridge\n",
    "from sklearn.ensemble import RandomForestRegressor\n",
    "from sklearn.preprocessing import StandardScaler\n",
    "from sklearn.tree import DecisionTreeRegressor\n",
    "from sklearn.metrics import mean_squared_error as MSE\n",
    "from sklearn.linear_model import LinearRegression"
   ]
  },
  {
   "cell_type": "markdown",
   "id": "b76e0e37-cdb2-49e1-9284-9622b0d71ef7",
   "metadata": {
    "jp-MarkdownHeadingCollapsed": true,
    "tags": []
   },
   "source": [
    "# Function Definition"
   ]
  },
  {
   "cell_type": "code",
   "execution_count": 3,
   "id": "c5848e87-7eed-49bd-8bae-3f41504e9af6",
   "metadata": {},
   "outputs": [],
   "source": [
    "def relaciones_vs_target(X, Y, return_type='axes'):\n",
    "    '''\n",
    "    Función que representa gráficos de dispersión de las variables\n",
    "    en X en función a la variable Y\n",
    "    '''\n",
    "    fig_tot = (len(X.columns))\n",
    "    fig_por_fila = 4.\n",
    "    tamanio_fig = 4.\n",
    "    num_filas = int( np.ceil(fig_tot/fig_por_fila) )    \n",
    "    plt.figure( figsize=( fig_por_fila*tamanio_fig+5, num_filas*tamanio_fig+5 ) )\n",
    "    c = 0 \n",
    "    for i, col in enumerate(X.columns):\n",
    "        plt.subplot(num_filas, fig_por_fila, i+1)\n",
    "        sns.scatterplot(x=X[col], y=Y)\n",
    "        plt.title( '%s vs %s' % (col, 'target') )\n",
    "        plt.ylabel('Target')\n",
    "        plt.xlabel(col)\n",
    "    plt.show()\n",
    "def relaciones_vs_target_reg(X, Y, return_type='axes'):\n",
    "    '''\n",
    "    Función que representa gráficos de dispersión de las variables\n",
    "    en X en función a la variable Y\n",
    "    '''\n",
    "    fig_tot = (len(X.columns))\n",
    "    fig_por_fila = 4.\n",
    "    tamanio_fig = 4.\n",
    "    num_filas = int( np.ceil(fig_tot/fig_por_fila) )    \n",
    "    plt.figure( figsize=( fig_por_fila*tamanio_fig+5, num_filas*tamanio_fig+5 ) )\n",
    "    c = 0 \n",
    "    for i, col in enumerate(X.columns):\n",
    "        plt.subplot(num_filas, fig_por_fila, i+1)\n",
    "        sns.regplot(x=X[col], y=Y)\n",
    "        plt.title( '%s vs %s' % (col, 'target') )\n",
    "        plt.ylabel('Target')\n",
    "        plt.xlabel(col)\n",
    "    plt.show()"
   ]
  },
  {
   "cell_type": "markdown",
   "id": "1593a97d-d9f1-4d84-9bb2-466986b72824",
   "metadata": {
    "jp-MarkdownHeadingCollapsed": true,
    "tags": []
   },
   "source": [
    "# Data Reading"
   ]
  },
  {
   "cell_type": "markdown",
   "id": "6a9a03b7-4797-47a8-9509-607648b6119f",
   "metadata": {},
   "source": [
    "One of the first things we need to do is load the dataset we are going to use"
   ]
  },
  {
   "cell_type": "markdown",
   "id": "fcecc70a-c0fd-4bdf-a486-c23645cb34b1",
   "metadata": {},
   "source": [
    "As it's a CSV(Comma separate values) we use the pandas funtion read_csv to load the data as a DataFrame"
   ]
  },
  {
   "cell_type": "code",
   "execution_count": 4,
   "id": "055675d3-8dc2-4538-8cf8-f31c02d3f6c2",
   "metadata": {},
   "outputs": [
    {
     "data": {
      "text/html": [
       "<div>\n",
       "<style scoped>\n",
       "    .dataframe tbody tr th:only-of-type {\n",
       "        vertical-align: middle;\n",
       "    }\n",
       "\n",
       "    .dataframe tbody tr th {\n",
       "        vertical-align: top;\n",
       "    }\n",
       "\n",
       "    .dataframe thead th {\n",
       "        text-align: right;\n",
       "    }\n",
       "</style>\n",
       "<table border=\"1\" class=\"dataframe\">\n",
       "  <thead>\n",
       "    <tr style=\"text-align: right;\">\n",
       "      <th></th>\n",
       "      <th>id</th>\n",
       "      <th>latitude</th>\n",
       "      <th>longitude</th>\n",
       "      <th>property_type</th>\n",
       "      <th>room_type</th>\n",
       "      <th>bathrooms</th>\n",
       "      <th>bedrooms</th>\n",
       "      <th>minimum_nights</th>\n",
       "      <th>price</th>\n",
       "    </tr>\n",
       "  </thead>\n",
       "  <tbody>\n",
       "    <tr>\n",
       "      <th>0</th>\n",
       "      <td>958</td>\n",
       "      <td>37.76931</td>\n",
       "      <td>-122.43386</td>\n",
       "      <td>Apartment</td>\n",
       "      <td>Entire home/apt</td>\n",
       "      <td>1.0</td>\n",
       "      <td>1.0</td>\n",
       "      <td>1</td>\n",
       "      <td>$170.00</td>\n",
       "    </tr>\n",
       "    <tr>\n",
       "      <th>1</th>\n",
       "      <td>3850</td>\n",
       "      <td>37.75402</td>\n",
       "      <td>-122.45805</td>\n",
       "      <td>House</td>\n",
       "      <td>Private room</td>\n",
       "      <td>1.0</td>\n",
       "      <td>1.0</td>\n",
       "      <td>1</td>\n",
       "      <td>$99.00</td>\n",
       "    </tr>\n",
       "    <tr>\n",
       "      <th>2</th>\n",
       "      <td>5858</td>\n",
       "      <td>37.74511</td>\n",
       "      <td>-122.42102</td>\n",
       "      <td>Apartment</td>\n",
       "      <td>Entire home/apt</td>\n",
       "      <td>1.0</td>\n",
       "      <td>2.0</td>\n",
       "      <td>30</td>\n",
       "      <td>$235.00</td>\n",
       "    </tr>\n",
       "    <tr>\n",
       "      <th>3</th>\n",
       "      <td>7918</td>\n",
       "      <td>37.76669</td>\n",
       "      <td>-122.45250</td>\n",
       "      <td>Apartment</td>\n",
       "      <td>Private room</td>\n",
       "      <td>4.0</td>\n",
       "      <td>1.0</td>\n",
       "      <td>32</td>\n",
       "      <td>$65.00</td>\n",
       "    </tr>\n",
       "    <tr>\n",
       "      <th>4</th>\n",
       "      <td>8142</td>\n",
       "      <td>37.76487</td>\n",
       "      <td>-122.45183</td>\n",
       "      <td>Apartment</td>\n",
       "      <td>Private room</td>\n",
       "      <td>4.0</td>\n",
       "      <td>1.0</td>\n",
       "      <td>32</td>\n",
       "      <td>$65.00</td>\n",
       "    </tr>\n",
       "  </tbody>\n",
       "</table>\n",
       "</div>"
      ],
      "text/plain": [
       "     id  latitude  longitude property_type        room_type  bathrooms  \\\n",
       "0   958  37.76931 -122.43386     Apartment  Entire home/apt        1.0   \n",
       "1  3850  37.75402 -122.45805         House     Private room        1.0   \n",
       "2  5858  37.74511 -122.42102     Apartment  Entire home/apt        1.0   \n",
       "3  7918  37.76669 -122.45250     Apartment     Private room        4.0   \n",
       "4  8142  37.76487 -122.45183     Apartment     Private room        4.0   \n",
       "\n",
       "   bedrooms  minimum_nights     price  \n",
       "0       1.0               1  $170.00   \n",
       "1       1.0               1   $99.00   \n",
       "2       2.0              30  $235.00   \n",
       "3       1.0              32   $65.00   \n",
       "4       1.0              32   $65.00   "
      ]
     },
     "execution_count": 4,
     "metadata": {},
     "output_type": "execute_result"
    }
   ],
   "source": [
    "df = pd.read_csv('data/rentals.csv')\n",
    "df.head()"
   ]
  },
  {
   "cell_type": "markdown",
   "id": "2d132540-f443-4491-92be-3d0d93546559",
   "metadata": {},
   "source": [
    "It is good to know the shape of the data we are managing "
   ]
  },
  {
   "cell_type": "code",
   "execution_count": 5,
   "id": "8062002d-139d-4858-bef8-1c925675d6bb",
   "metadata": {},
   "outputs": [
    {
     "data": {
      "text/plain": [
       "(8111, 9)"
      ]
     },
     "execution_count": 5,
     "metadata": {},
     "output_type": "execute_result"
    }
   ],
   "source": [
    "df.shape"
   ]
  },
  {
   "cell_type": "code",
   "execution_count": 6,
   "id": "cd748111-616d-4375-95ad-66c077050f34",
   "metadata": {},
   "outputs": [
    {
     "name": "stdout",
     "output_type": "stream",
     "text": [
      "<class 'pandas.core.frame.DataFrame'>\n",
      "RangeIndex: 8111 entries, 0 to 8110\n",
      "Data columns (total 9 columns):\n",
      " #   Column          Non-Null Count  Dtype  \n",
      "---  ------          --------------  -----  \n",
      " 0   id              8111 non-null   int64  \n",
      " 1   latitude        8111 non-null   float64\n",
      " 2   longitude       8111 non-null   float64\n",
      " 3   property_type   8111 non-null   object \n",
      " 4   room_type       8111 non-null   object \n",
      " 5   bathrooms       8099 non-null   float64\n",
      " 6   bedrooms        8107 non-null   float64\n",
      " 7   minimum_nights  8111 non-null   int64  \n",
      " 8   price           8111 non-null   object \n",
      "dtypes: float64(4), int64(2), object(3)\n",
      "memory usage: 570.4+ KB\n"
     ]
    }
   ],
   "source": [
    "df.info()"
   ]
  },
  {
   "cell_type": "markdown",
   "id": "f94e0d92-0bab-4c22-9ad8-4f5f3ddafa7b",
   "metadata": {},
   "source": [
    "As we can see there are 3 variables that are object type. As we are going to use regression models we can't have this so we need to do a transformation so we can use the data"
   ]
  },
  {
   "cell_type": "markdown",
   "id": "684288e4-aa16-4655-98b3-5427a37df304",
   "metadata": {},
   "source": [
    "We can use the describe function giving the argument (include='object') to explore the number of unique values each of these variables have"
   ]
  },
  {
   "cell_type": "code",
   "execution_count": 7,
   "id": "1c574ea5-2155-4104-b135-86de819d77a9",
   "metadata": {},
   "outputs": [
    {
     "data": {
      "text/html": [
       "<div>\n",
       "<style scoped>\n",
       "    .dataframe tbody tr th:only-of-type {\n",
       "        vertical-align: middle;\n",
       "    }\n",
       "\n",
       "    .dataframe tbody tr th {\n",
       "        vertical-align: top;\n",
       "    }\n",
       "\n",
       "    .dataframe thead th {\n",
       "        text-align: right;\n",
       "    }\n",
       "</style>\n",
       "<table border=\"1\" class=\"dataframe\">\n",
       "  <thead>\n",
       "    <tr style=\"text-align: right;\">\n",
       "      <th></th>\n",
       "      <th>property_type</th>\n",
       "      <th>room_type</th>\n",
       "      <th>price</th>\n",
       "    </tr>\n",
       "  </thead>\n",
       "  <tbody>\n",
       "    <tr>\n",
       "      <th>count</th>\n",
       "      <td>8111</td>\n",
       "      <td>8111</td>\n",
       "      <td>8111</td>\n",
       "    </tr>\n",
       "    <tr>\n",
       "      <th>unique</th>\n",
       "      <td>26</td>\n",
       "      <td>4</td>\n",
       "      <td>526</td>\n",
       "    </tr>\n",
       "    <tr>\n",
       "      <th>top</th>\n",
       "      <td>Apartment</td>\n",
       "      <td>Entire home/apt</td>\n",
       "      <td>$150.00</td>\n",
       "    </tr>\n",
       "    <tr>\n",
       "      <th>freq</th>\n",
       "      <td>3243</td>\n",
       "      <td>4772</td>\n",
       "      <td>271</td>\n",
       "    </tr>\n",
       "  </tbody>\n",
       "</table>\n",
       "</div>"
      ],
      "text/plain": [
       "       property_type        room_type     price\n",
       "count           8111             8111      8111\n",
       "unique            26                4       526\n",
       "top        Apartment  Entire home/apt  $150.00 \n",
       "freq            3243             4772       271"
      ]
     },
     "execution_count": 7,
     "metadata": {},
     "output_type": "execute_result"
    }
   ],
   "source": [
    "df.describe(include='object')"
   ]
  },
  {
   "cell_type": "markdown",
   "id": "d48b1bca-24df-4c71-812e-8a7cbd8f406c",
   "metadata": {},
   "source": [
    "We see that:\n",
    " - property_type have a lot of different values\n",
    " - room_type have only 4 different values\n",
    " - As expected price have lots of different values because it should be a int variable type  and it is wrongly set as an object type\n",
    "    "
   ]
  },
  {
   "cell_type": "markdown",
   "id": "47f4bdd8-fa0a-487a-a114-6cdd6ada4bcb",
   "metadata": {
    "tags": []
   },
   "source": [
    "# Data preprocessing"
   ]
  },
  {
   "cell_type": "markdown",
   "id": "67881b15-f82d-419c-85e1-035a2531d47b",
   "metadata": {},
   "source": [
    "Now we must prepare our data so we can later use different models"
   ]
  },
  {
   "cell_type": "markdown",
   "id": "2ddea5fc-10cb-4f6c-8a0f-9311fad2c530",
   "metadata": {
    "jp-MarkdownHeadingCollapsed": true,
    "tags": []
   },
   "source": [
    "## Duplicates"
   ]
  },
  {
   "cell_type": "markdown",
   "id": "edf1cc35-b76d-40be-b255-f5dd93fe8aaa",
   "metadata": {},
   "source": [
    "First thing we do is to check if there are any duplicated rows in our dataset"
   ]
  },
  {
   "cell_type": "code",
   "execution_count": 8,
   "id": "470136a4-f6aa-43ed-89b5-b480aed0bdf6",
   "metadata": {},
   "outputs": [
    {
     "data": {
      "text/plain": [
       "(0, 9)"
      ]
     },
     "execution_count": 8,
     "metadata": {},
     "output_type": "execute_result"
    }
   ],
   "source": [
    "df[df.duplicated()].shape"
   ]
  },
  {
   "cell_type": "markdown",
   "id": "40155252-11bc-4e8e-9346-469e3507696a",
   "metadata": {},
   "source": [
    "We can see that fortunatly there are none"
   ]
  },
  {
   "cell_type": "markdown",
   "id": "9663c0e1-7fb7-4b4d-ba3b-60f2e8f2a4b1",
   "metadata": {
    "jp-MarkdownHeadingCollapsed": true,
    "tags": []
   },
   "source": [
    "## Missings"
   ]
  },
  {
   "cell_type": "code",
   "execution_count": 9,
   "id": "35a7779d-31a4-4a43-993c-0e33e21ba2a0",
   "metadata": {},
   "outputs": [
    {
     "data": {
      "text/plain": [
       "id                 0\n",
       "latitude           0\n",
       "longitude          0\n",
       "property_type      0\n",
       "room_type          0\n",
       "bathrooms         12\n",
       "bedrooms           4\n",
       "minimum_nights     0\n",
       "price              0\n",
       "dtype: int64"
      ]
     },
     "execution_count": 9,
     "metadata": {},
     "output_type": "execute_result"
    }
   ],
   "source": [
    "df.isnull().sum()"
   ]
  },
  {
   "cell_type": "markdown",
   "id": "b6fd3ffa-150f-4c5a-8b81-d84124cbeeeb",
   "metadata": {},
   "source": [
    "We can see that there are some null values so we are going to treat them"
   ]
  },
  {
   "cell_type": "markdown",
   "id": "e2af4c9a-1ad4-4e76-96cc-e70c5e715619",
   "metadata": {
    "jp-MarkdownHeadingCollapsed": true,
    "tags": []
   },
   "source": [
    "## Changing Variable type"
   ]
  },
  {
   "cell_type": "markdown",
   "id": "68139c1c-774f-44c5-adcd-3c227b783baa",
   "metadata": {
    "jp-MarkdownHeadingCollapsed": true,
    "tags": []
   },
   "source": [
    "### price"
   ]
  },
  {
   "cell_type": "code",
   "execution_count": 10,
   "id": "58deea0d-9d64-4074-bafd-b9299c88bca6",
   "metadata": {},
   "outputs": [
    {
     "data": {
      "text/plain": [
       "$150.00       271\n",
       "$100.00       236\n",
       "$200.00       210\n",
       "$250.00       202\n",
       "$125.00       159\n",
       "             ... \n",
       "$479.00         1\n",
       "$1,999.00       1\n",
       "$498.00         1\n",
       "$469.00         1\n",
       "$585.00         1\n",
       "Name: price, Length: 526, dtype: int64"
      ]
     },
     "execution_count": 10,
     "metadata": {},
     "output_type": "execute_result"
    }
   ],
   "source": [
    "df.price.value_counts()"
   ]
  },
  {
   "cell_type": "markdown",
   "id": "aa28e573-2375-4926-9994-6100fe9fb687",
   "metadata": {},
   "source": [
    "To change the price varible first we have to do some tranformations\n",
    " - As we saw the price columns starts with $ symbol so we need to remove it\n",
    " - Also there are some values that have a comma(,) so we need to remove them as not doing this  will result in an error when trying to change the type "
   ]
  },
  {
   "cell_type": "code",
   "execution_count": 11,
   "id": "2d26fec1-8e6e-4fc7-8d7e-96e1c0681c64",
   "metadata": {},
   "outputs": [],
   "source": [
    "df.price = df.price.apply(lambda x: x.strip('$'))"
   ]
  },
  {
   "cell_type": "code",
   "execution_count": 12,
   "id": "c8bb8636-55c5-488f-b6ca-8c8bd63c26c9",
   "metadata": {},
   "outputs": [],
   "source": [
    "df.price = df.price.apply(lambda x: x.replace(',',''))"
   ]
  },
  {
   "cell_type": "code",
   "execution_count": 13,
   "id": "e68d03f4-0e64-457a-90c1-95bcbd7fe4e1",
   "metadata": {},
   "outputs": [],
   "source": [
    "df['price'] = pd.to_numeric(df.price)"
   ]
  },
  {
   "cell_type": "markdown",
   "id": "7583a7c7-1751-42b6-afad-337c3bf7429b",
   "metadata": {
    "jp-MarkdownHeadingCollapsed": true,
    "tags": []
   },
   "source": [
    "### room_type"
   ]
  },
  {
   "cell_type": "markdown",
   "id": "88b3f4ec-cac1-48fa-b9d5-75f37c088eea",
   "metadata": {},
   "source": [
    "We saw there are only 4 different values in this variable so we cna do a quick change to them"
   ]
  },
  {
   "cell_type": "code",
   "execution_count": 14,
   "id": "7db8e0b5-4eaf-48e9-8798-c4e49a6401da",
   "metadata": {},
   "outputs": [
    {
     "data": {
      "text/plain": [
       "Entire home/apt    4772\n",
       "Private room       2891\n",
       "Shared room         241\n",
       "Hotel room          207\n",
       "Name: room_type, dtype: int64"
      ]
     },
     "execution_count": 14,
     "metadata": {},
     "output_type": "execute_result"
    }
   ],
   "source": [
    "df.room_type.value_counts()"
   ]
  },
  {
   "cell_type": "code",
   "execution_count": 15,
   "id": "b593f7cd-0d5a-4355-960c-4b6dddb2a16e",
   "metadata": {},
   "outputs": [],
   "source": [
    "room_changed= {'Entire home/apt' : 0,'Private room' : 1, 'Shared room': 2, 'Hotel room' : 3}"
   ]
  },
  {
   "cell_type": "code",
   "execution_count": 16,
   "id": "784deeb6-9dee-482e-b675-e11425844e1d",
   "metadata": {},
   "outputs": [],
   "source": [
    "df['room_type'] = df['room_type'].replace(room_changed)"
   ]
  },
  {
   "cell_type": "code",
   "execution_count": 17,
   "id": "4c39a3f0-31af-4ef6-8b6e-c969b2f57897",
   "metadata": {},
   "outputs": [],
   "source": [
    "df['room_type'] = pd.to_numeric(df.room_type)"
   ]
  },
  {
   "cell_type": "markdown",
   "id": "f0c4a0dd-73f6-4a49-bc57-4dcce774a60e",
   "metadata": {
    "jp-MarkdownHeadingCollapsed": true,
    "tags": []
   },
   "source": [
    "### property_type"
   ]
  },
  {
   "cell_type": "markdown",
   "id": "20248b2f-66d3-48f0-9797-9701091962ee",
   "metadata": {},
   "source": [
    "This vaiable is completely different from room_type because we was it had a lot of values so it is not as easy to modify. We can do this two ways, the first one using the get_dummies function and the other one will be to create a function to make the changes as in room type but in an automatic way"
   ]
  },
  {
   "cell_type": "markdown",
   "id": "c6deb5c3-9624-45b1-955e-2f73f5680d1d",
   "metadata": {},
   "source": [
    "To simplify the problem we are going to use the get_dummies function"
   ]
  },
  {
   "cell_type": "code",
   "execution_count": 18,
   "id": "885edf80-a506-4d2d-886f-f525e24763ce",
   "metadata": {},
   "outputs": [],
   "source": [
    "df = pd.get_dummies(data=df, drop_first = True)"
   ]
  },
  {
   "cell_type": "markdown",
   "id": "46a69e50-1137-468b-83a2-516e919ff6e8",
   "metadata": {
    "jp-MarkdownHeadingCollapsed": true,
    "tags": []
   },
   "source": [
    "# Data Division"
   ]
  },
  {
   "cell_type": "markdown",
   "id": "eb6ec723-b655-4c09-9c1d-b3cbe1569832",
   "metadata": {},
   "source": [
    "To work we need to separate our data into 2, one DataFrame that contains all the independet variables and another one that contains the dependent one"
   ]
  },
  {
   "cell_type": "code",
   "execution_count": 20,
   "id": "134253e1-1c23-4b1a-90d0-42558dcaf4ff",
   "metadata": {},
   "outputs": [],
   "source": [
    "X = df.drop(['price'],axis=1)\n",
    "y = df['price']"
   ]
  },
  {
   "cell_type": "code",
   "execution_count": 21,
   "id": "1dc27fdd-6ca8-4858-94aa-444546d81bb0",
   "metadata": {},
   "outputs": [
    {
     "data": {
      "text/plain": [
       "(8111, 32)"
      ]
     },
     "metadata": {},
     "output_type": "display_data"
    },
    {
     "data": {
      "text/plain": [
       "(8111,)"
      ]
     },
     "metadata": {},
     "output_type": "display_data"
    }
   ],
   "source": [
    "display(X.shape)\n",
    "display(y.shape)"
   ]
  },
  {
   "cell_type": "code",
   "execution_count": 22,
   "id": "6a96eae7-acac-48df-8851-ed18b02547fa",
   "metadata": {},
   "outputs": [
    {
     "data": {
      "text/html": [
       "<div>\n",
       "<style scoped>\n",
       "    .dataframe tbody tr th:only-of-type {\n",
       "        vertical-align: middle;\n",
       "    }\n",
       "\n",
       "    .dataframe tbody tr th {\n",
       "        vertical-align: top;\n",
       "    }\n",
       "\n",
       "    .dataframe thead th {\n",
       "        text-align: right;\n",
       "    }\n",
       "</style>\n",
       "<table border=\"1\" class=\"dataframe\">\n",
       "  <thead>\n",
       "    <tr style=\"text-align: right;\">\n",
       "      <th></th>\n",
       "      <th>id</th>\n",
       "      <th>latitude</th>\n",
       "      <th>longitude</th>\n",
       "      <th>room_type</th>\n",
       "      <th>bathrooms</th>\n",
       "      <th>bedrooms</th>\n",
       "      <th>minimum_nights</th>\n",
       "      <th>property_type_Apartment</th>\n",
       "      <th>property_type_Bed and breakfast</th>\n",
       "      <th>property_type_Boutique hotel</th>\n",
       "      <th>...</th>\n",
       "      <th>property_type_House</th>\n",
       "      <th>property_type_Hut</th>\n",
       "      <th>property_type_In-law</th>\n",
       "      <th>property_type_Loft</th>\n",
       "      <th>property_type_Other</th>\n",
       "      <th>property_type_Resort</th>\n",
       "      <th>property_type_Serviced apartment</th>\n",
       "      <th>property_type_Tiny house</th>\n",
       "      <th>property_type_Townhouse</th>\n",
       "      <th>property_type_Villa</th>\n",
       "    </tr>\n",
       "  </thead>\n",
       "  <tbody>\n",
       "    <tr>\n",
       "      <th>0</th>\n",
       "      <td>958</td>\n",
       "      <td>37.76931</td>\n",
       "      <td>-122.43386</td>\n",
       "      <td>0</td>\n",
       "      <td>1.0</td>\n",
       "      <td>1.0</td>\n",
       "      <td>1</td>\n",
       "      <td>1</td>\n",
       "      <td>0</td>\n",
       "      <td>0</td>\n",
       "      <td>...</td>\n",
       "      <td>0</td>\n",
       "      <td>0</td>\n",
       "      <td>0</td>\n",
       "      <td>0</td>\n",
       "      <td>0</td>\n",
       "      <td>0</td>\n",
       "      <td>0</td>\n",
       "      <td>0</td>\n",
       "      <td>0</td>\n",
       "      <td>0</td>\n",
       "    </tr>\n",
       "    <tr>\n",
       "      <th>1</th>\n",
       "      <td>3850</td>\n",
       "      <td>37.75402</td>\n",
       "      <td>-122.45805</td>\n",
       "      <td>1</td>\n",
       "      <td>1.0</td>\n",
       "      <td>1.0</td>\n",
       "      <td>1</td>\n",
       "      <td>0</td>\n",
       "      <td>0</td>\n",
       "      <td>0</td>\n",
       "      <td>...</td>\n",
       "      <td>1</td>\n",
       "      <td>0</td>\n",
       "      <td>0</td>\n",
       "      <td>0</td>\n",
       "      <td>0</td>\n",
       "      <td>0</td>\n",
       "      <td>0</td>\n",
       "      <td>0</td>\n",
       "      <td>0</td>\n",
       "      <td>0</td>\n",
       "    </tr>\n",
       "    <tr>\n",
       "      <th>2</th>\n",
       "      <td>5858</td>\n",
       "      <td>37.74511</td>\n",
       "      <td>-122.42102</td>\n",
       "      <td>0</td>\n",
       "      <td>1.0</td>\n",
       "      <td>2.0</td>\n",
       "      <td>30</td>\n",
       "      <td>1</td>\n",
       "      <td>0</td>\n",
       "      <td>0</td>\n",
       "      <td>...</td>\n",
       "      <td>0</td>\n",
       "      <td>0</td>\n",
       "      <td>0</td>\n",
       "      <td>0</td>\n",
       "      <td>0</td>\n",
       "      <td>0</td>\n",
       "      <td>0</td>\n",
       "      <td>0</td>\n",
       "      <td>0</td>\n",
       "      <td>0</td>\n",
       "    </tr>\n",
       "    <tr>\n",
       "      <th>3</th>\n",
       "      <td>7918</td>\n",
       "      <td>37.76669</td>\n",
       "      <td>-122.45250</td>\n",
       "      <td>1</td>\n",
       "      <td>4.0</td>\n",
       "      <td>1.0</td>\n",
       "      <td>32</td>\n",
       "      <td>1</td>\n",
       "      <td>0</td>\n",
       "      <td>0</td>\n",
       "      <td>...</td>\n",
       "      <td>0</td>\n",
       "      <td>0</td>\n",
       "      <td>0</td>\n",
       "      <td>0</td>\n",
       "      <td>0</td>\n",
       "      <td>0</td>\n",
       "      <td>0</td>\n",
       "      <td>0</td>\n",
       "      <td>0</td>\n",
       "      <td>0</td>\n",
       "    </tr>\n",
       "    <tr>\n",
       "      <th>4</th>\n",
       "      <td>8142</td>\n",
       "      <td>37.76487</td>\n",
       "      <td>-122.45183</td>\n",
       "      <td>1</td>\n",
       "      <td>4.0</td>\n",
       "      <td>1.0</td>\n",
       "      <td>32</td>\n",
       "      <td>1</td>\n",
       "      <td>0</td>\n",
       "      <td>0</td>\n",
       "      <td>...</td>\n",
       "      <td>0</td>\n",
       "      <td>0</td>\n",
       "      <td>0</td>\n",
       "      <td>0</td>\n",
       "      <td>0</td>\n",
       "      <td>0</td>\n",
       "      <td>0</td>\n",
       "      <td>0</td>\n",
       "      <td>0</td>\n",
       "      <td>0</td>\n",
       "    </tr>\n",
       "  </tbody>\n",
       "</table>\n",
       "<p>5 rows × 32 columns</p>\n",
       "</div>"
      ],
      "text/plain": [
       "     id  latitude  longitude  room_type  bathrooms  bedrooms  minimum_nights  \\\n",
       "0   958  37.76931 -122.43386          0        1.0       1.0               1   \n",
       "1  3850  37.75402 -122.45805          1        1.0       1.0               1   \n",
       "2  5858  37.74511 -122.42102          0        1.0       2.0              30   \n",
       "3  7918  37.76669 -122.45250          1        4.0       1.0              32   \n",
       "4  8142  37.76487 -122.45183          1        4.0       1.0              32   \n",
       "\n",
       "   property_type_Apartment  property_type_Bed and breakfast  \\\n",
       "0                        1                                0   \n",
       "1                        0                                0   \n",
       "2                        1                                0   \n",
       "3                        1                                0   \n",
       "4                        1                                0   \n",
       "\n",
       "   property_type_Boutique hotel  ...  property_type_House  property_type_Hut  \\\n",
       "0                             0  ...                    0                  0   \n",
       "1                             0  ...                    1                  0   \n",
       "2                             0  ...                    0                  0   \n",
       "3                             0  ...                    0                  0   \n",
       "4                             0  ...                    0                  0   \n",
       "\n",
       "   property_type_In-law  property_type_Loft  property_type_Other  \\\n",
       "0                     0                   0                    0   \n",
       "1                     0                   0                    0   \n",
       "2                     0                   0                    0   \n",
       "3                     0                   0                    0   \n",
       "4                     0                   0                    0   \n",
       "\n",
       "   property_type_Resort  property_type_Serviced apartment  \\\n",
       "0                     0                                 0   \n",
       "1                     0                                 0   \n",
       "2                     0                                 0   \n",
       "3                     0                                 0   \n",
       "4                     0                                 0   \n",
       "\n",
       "   property_type_Tiny house  property_type_Townhouse  property_type_Villa  \n",
       "0                         0                        0                    0  \n",
       "1                         0                        0                    0  \n",
       "2                         0                        0                    0  \n",
       "3                         0                        0                    0  \n",
       "4                         0                        0                    0  \n",
       "\n",
       "[5 rows x 32 columns]"
      ]
     },
     "metadata": {},
     "output_type": "display_data"
    }
   ],
   "source": [
    "display(X.head())"
   ]
  },
  {
   "cell_type": "markdown",
   "id": "83947074-32e1-494a-a49a-1c348ceb1676",
   "metadata": {},
   "source": [
    "# Visualization and Correlation"
   ]
  },
  {
   "cell_type": "code",
   "execution_count": null,
   "id": "f5656bd4-b8d8-4fcd-aea6-a0cfb34a5df5",
   "metadata": {},
   "outputs": [],
   "source": []
  },
  {
   "cell_type": "code",
   "execution_count": null,
   "id": "a96df1eb-191b-4ce1-92a5-b7c0ea15e671",
   "metadata": {},
   "outputs": [],
   "source": []
  },
  {
   "cell_type": "code",
   "execution_count": null,
   "id": "a869494f-fd0c-4cac-b385-c01965ecdee8",
   "metadata": {},
   "outputs": [],
   "source": []
  },
  {
   "cell_type": "code",
   "execution_count": null,
   "id": "2b147435-afcc-4ed2-a1f4-4ee058996912",
   "metadata": {},
   "outputs": [],
   "source": []
  },
  {
   "cell_type": "code",
   "execution_count": null,
   "id": "4294f4f9-f30d-4264-a70e-45aca808eae2",
   "metadata": {},
   "outputs": [],
   "source": []
  },
  {
   "cell_type": "code",
   "execution_count": null,
   "id": "e027b6f4-eabd-4f45-9d47-70229ac955cd",
   "metadata": {},
   "outputs": [],
   "source": []
  }
 ],
 "metadata": {
  "colab": {
   "name": "Welcome to DataCamp Workspaces.ipynb",
   "provenance": []
  },
  "kernelspec": {
   "display_name": "Python 3 (ipykernel)",
   "language": "python",
   "name": "python3"
  },
  "language_info": {
   "codemirror_mode": {
    "name": "ipython",
    "version": 3
   },
   "file_extension": ".py",
   "mimetype": "text/x-python",
   "name": "python",
   "nbconvert_exporter": "python",
   "pygments_lexer": "ipython3",
   "version": "3.8.10"
  }
 },
 "nbformat": 4,
 "nbformat_minor": 5
}
